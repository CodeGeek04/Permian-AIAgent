{
 "cells": [
  {
   "cell_type": "markdown",
   "metadata": {},
   "source": [
    "### Using TF-IDF for embedding and KMeans for clustering"
   ]
  },
  {
   "cell_type": "code",
   "execution_count": 86,
   "metadata": {},
   "outputs": [
    {
     "data": {
      "text/plain": [
       "2051"
      ]
     },
     "execution_count": 86,
     "metadata": {},
     "output_type": "execute_result"
    }
   ],
   "source": [
    "import pandas as pd\n",
    "\n",
    "data = pd.read_csv('frameIo_dataset_cleansed.csv')\n",
    "data.dropna()\n",
    "data = data[\"Query\"][200:].tolist() # avoid using test data for training\n",
    "data = [str(datum) for datum in data if len(str(datum)) > 1]\n",
    "len(data)"
   ]
  },
  {
   "cell_type": "code",
   "execution_count": 75,
   "metadata": {},
   "outputs": [
    {
     "data": {
      "text/plain": [
       "19321"
      ]
     },
     "execution_count": 75,
     "metadata": {},
     "output_type": "execute_result"
    }
   ],
   "source": [
    "import spacy\n",
    "spacy_en = spacy.load(\"en_core_web_sm\")\n",
    "\n",
    "def tokenize_en(text):\n",
    "    return [tok.text for tok in spacy_en.tokenizer(text)]\n",
    "\n",
    "wordlist = []\n",
    "for query in data:\n",
    "    wordlist += tokenize_en(query) \n",
    "    \n",
    "len(wordlist)"
   ]
  },
  {
   "cell_type": "code",
   "execution_count": 89,
   "metadata": {},
   "outputs": [
    {
     "data": {
      "text/plain": [
       "<2051x2295 sparse matrix of type '<class 'numpy.float64'>'\n",
       "\twith 14601 stored elements in Compressed Sparse Row format>"
      ]
     },
     "execution_count": 89,
     "metadata": {},
     "output_type": "execute_result"
    }
   ],
   "source": [
    "from sklearn.feature_extraction.text import TfidfTransformer\n",
    "from sklearn.feature_extraction.text import CountVectorizer\n",
    "\n",
    "vectorizer = CountVectorizer()\n",
    "tf = TfidfTransformer()\n",
    "\n",
    "X = vectorizer.fit_transform(data)\n",
    "X = tf.fit_transform(X)\n",
    "X"
   ]
  },
  {
   "cell_type": "code",
   "execution_count": 90,
   "metadata": {},
   "outputs": [
    {
     "data": {
      "text/html": [
       "<div>\n",
       "<style scoped>\n",
       "    .dataframe tbody tr th:only-of-type {\n",
       "        vertical-align: middle;\n",
       "    }\n",
       "\n",
       "    .dataframe tbody tr th {\n",
       "        vertical-align: top;\n",
       "    }\n",
       "\n",
       "    .dataframe thead th {\n",
       "        text-align: right;\n",
       "    }\n",
       "</style>\n",
       "<table border=\"1\" class=\"dataframe\">\n",
       "  <thead>\n",
       "    <tr style=\"text-align: right;\">\n",
       "      <th></th>\n",
       "      <th>word</th>\n",
       "      <th>tf-idf</th>\n",
       "    </tr>\n",
       "  </thead>\n",
       "  <tbody>\n",
       "    <tr>\n",
       "      <th>0</th>\n",
       "      <td>the</td>\n",
       "      <td>115.493576</td>\n",
       "    </tr>\n",
       "    <tr>\n",
       "      <th>1</th>\n",
       "      <td>to</td>\n",
       "      <td>79.185662</td>\n",
       "    </tr>\n",
       "    <tr>\n",
       "      <th>2</th>\n",
       "      <td>add</td>\n",
       "      <td>65.194310</td>\n",
       "    </tr>\n",
       "    <tr>\n",
       "      <th>3</th>\n",
       "      <td>text</td>\n",
       "      <td>55.542097</td>\n",
       "    </tr>\n",
       "    <tr>\n",
       "      <th>4</th>\n",
       "      <td>change</td>\n",
       "      <td>53.431842</td>\n",
       "    </tr>\n",
       "    <tr>\n",
       "      <th>5</th>\n",
       "      <td>this</td>\n",
       "      <td>53.077377</td>\n",
       "    </tr>\n",
       "    <tr>\n",
       "      <th>6</th>\n",
       "      <td>in</td>\n",
       "      <td>50.988048</td>\n",
       "    </tr>\n",
       "    <tr>\n",
       "      <th>7</th>\n",
       "      <td>it</td>\n",
       "      <td>50.006069</td>\n",
       "    </tr>\n",
       "    <tr>\n",
       "      <th>8</th>\n",
       "      <td>and</td>\n",
       "      <td>49.937920</td>\n",
       "    </tr>\n",
       "    <tr>\n",
       "      <th>9</th>\n",
       "      <td>music</td>\n",
       "      <td>49.898824</td>\n",
       "    </tr>\n",
       "  </tbody>\n",
       "</table>\n",
       "</div>"
      ],
      "text/plain": [
       "     word      tf-idf\n",
       "0     the  115.493576\n",
       "1      to   79.185662\n",
       "2     add   65.194310\n",
       "3    text   55.542097\n",
       "4  change   53.431842\n",
       "5    this   53.077377\n",
       "6      in   50.988048\n",
       "7      it   50.006069\n",
       "8     and   49.937920\n",
       "9   music   49.898824"
      ]
     },
     "execution_count": 90,
     "metadata": {},
     "output_type": "execute_result"
    }
   ],
   "source": [
    "data1 = {'word': vectorizer.get_feature_names(),\n",
    "        'tf-idf': X.toarray().sum(axis=0).tolist()}\n",
    "df1 = pd.DataFrame(data1).sort_values(by=\"tf-idf\", ascending=False, ignore_index=True) \n",
    "df1.head(10)"
   ]
  },
  {
   "cell_type": "code",
   "execution_count": 91,
   "metadata": {},
   "outputs": [],
   "source": [
    "from sklearn.model_selection import train_test_split\n",
    "\n",
    "X_train, X_test = train_test_split(TFIDF, test_size=0.1, random_state=42)"
   ]
  },
  {
   "cell_type": "code",
   "execution_count": 94,
   "metadata": {},
   "outputs": [
    {
     "data": {
      "text/plain": [
       "KMeans(random_state=42)"
      ]
     },
     "execution_count": 94,
     "metadata": {},
     "output_type": "execute_result"
    }
   ],
   "source": [
    "from sklearn.cluster import KMeans\n",
    "\n",
    "model = KMeans(n_clusters=8, random_state=42)\n",
    "model.fit(X_train)"
   ]
  },
  {
   "cell_type": "code",
   "execution_count": 103,
   "metadata": {},
   "outputs": [
    {
     "data": {
      "text/plain": [
       "-1326.6812927693368"
      ]
     },
     "execution_count": 103,
     "metadata": {},
     "output_type": "execute_result"
    }
   ],
   "source": [
    "# model.predict(X_test)"
   ]
  },
  {
   "cell_type": "markdown",
   "metadata": {},
   "source": [
    "### Using SentenceTransformer for embeddings"
   ]
  },
  {
   "cell_type": "code",
   "execution_count": 44,
   "metadata": {},
   "outputs": [
    {
     "data": {
      "text/plain": [
       "':34 can you show a better b-roll shot than this one. maybe us eating?'"
      ]
     },
     "execution_count": 44,
     "metadata": {},
     "output_type": "execute_result"
    }
   ],
   "source": [
    "import pandas as pd\n",
    "\n",
    "data = pd.read_csv('frameIo_dataset_cleansed.csv')\n",
    "data.dropna()\n",
    "data = data[\"Query\"][300:].tolist() # avoid using test data for training\n",
    "data = [str(datum) for datum in data if len(str(datum)) > 1]\n",
    "data[0]"
   ]
  },
  {
   "cell_type": "code",
   "execution_count": 45,
   "metadata": {},
   "outputs": [
    {
     "name": "stdout",
     "output_type": "stream",
     "text": [
      "Cluster  1\n",
      "['start the video here and put on screen as well \"New York\\'s BEST Free View?\"', 'To times square, put this on screen as well', ' flash frame ', 'in the end also flash frame (', 'flash frame', 'again flash frame', 'and again flash frame ', 'Can you Fix / Re-Edit - there is a pop-in image glitch that looks bad (text on screen for a few frames) at 00:33 - please check and edit this out.  The music also ends abruptly as well at the end.', 'Outstanding work!   I love the idea of the previous 6 edits then being re-used in this one!  Great idea, way to go.  ONE re-edit - there is a ghost frame @ 00:46 - one quick little shot that should not be there.  Can you fix?', 'He is saying 4 but on the screen is 5 ']\n",
      "\n",
      "Cluster  2\n",
      "['Zoom out to show this frame as the name is coming on screen', 'Please zoom in the above part for it to be visible properly.', 'Use some dynamic framing.. zoom into the grand ma\\r\\nzoom into the ma also ', 'Zoom th escreen in ', 'Zoom the above screen in and show what is happening on the screen, so the text is visible ', \"The entire video can't be zoomed out, we need to zoom in also\", 'Zoom this in show full screen', 'zoom this in more', 'Zoom in his frame oto', 'Can we do a little zoom in zoom out of the frame']\n",
      "\n",
      "Cluster  3\n",
      "['we cant end a video in mid sentence. it looks incomplete. Just focus on little sleepies portion and have a beginning and end to it. Code to add on screen is \"Madison15\" for 15% off.', 'Cant end video in mid sentence. Each video needs a purpose and what story its telling to the audience. Need to be strategic on what segments are being taken from long form content.', 'The ending is abrupt, we need it to be more clear.\\r\\nThe sentence is getting cut awkwardly.', 'The end transition is still not there - please put\\r\\nIt end abrupty (', 'The end transition is still not there - please put\\r\\nIt end abrupty (', 'Dont end a short form video in mid sentence. It looks like it is not completed', 'this transition is bad', 'The word \"creative\" is getting cut at the end.', 'Add end transition and finish off (', 'The music ends too abruptly at the end as well - can you fix? (']\n",
      "\n",
      "Cluster  4\n",
      "['Hold best north dumpling shop on screen til :2 and  4142 Main St Flushing, Queens', 'Inside the M Social Hotel is A ', 'Summit OV', 'They just opened up', 'OU WANT THIS LOUIS VUITTON! ', 'From Annie - Can we please edit this to have more of a hook and the \"wow\" moments,? Instead of ending with him being charged for murder - after she goes to the house including the parts such as finding the barrel at the house, the signs of struggle, etc.', '\"Go get the balloons\" not look at the balloons', 'He\\'s running away not \"is running away\"', 'empty room ', 'into a koi pond']\n",
      "\n",
      "Cluster  5\n",
      "['highlight some texts in between like this', 'Add numerical text 3,2,1 instead of words three two one', 'Its weakened him dude is what he says here pls change it ', 'These lights* change it pls', 'Change this text to - \"COMMENT \"YES\" FOR PART 2\"', 'Also put a location pin text', \"00:06 remove 'your light bulbs' and write 'your colour'\", \"its 'And guys, they make command hooks',correct it\", \"remove 'no. 9'\", \"it's 'no.10',please correct it (\"]\n",
      "\n",
      "Cluster  6\n",
      "['put a cha-ching sound here, put some money emoji (', \"Please add emoticon  , instead of the text 'FISH'\", 'please add watermark', 'On the orange thing that is coming in between - add halloween emojis, throughout the video actually.\\r\\nHalloween is coming so it should look like it! ', 'On the orange thing that is coming in between - add halloween emojis, throughout the video actually.\\r\\nHalloween is coming so it should look like it! ', 'Aadd halloween emojis, throughout the video actually.\\r\\nalloween is coming so it should look like it! ', 'Add halloween emojis, throughout the video actually.\\r\\nHalloween is coming so it should look like it!', 'Add halloween emojis, throughout the video actually.\\r\\nHalloween is coming so it should look like it! ', 'Add some more emojis ', 'Please add watermark and music']\n",
      "\n",
      "Cluster  7\n",
      "['On this frickin thing&', '*another', 'want them', '*cowl ', '*not really walk ', 'at *is so gimmicky\" ', 'You know what you guys, ', 'right now', 'you have known me', 'maybe... ']\n",
      "\n",
      "Cluster  8\n",
      "[':34 can you show a better b-roll shot than this one. maybe us eating?', 'This Grate', 'you want to get a little fancier?', '2. FLIPPING PRODUCTS FOR PROFIT', 'The word COURSES is not that audieble ', 'letters ', 'Turn on the light ', 'OMG not holding on', '*INAUDIBLE ', 'UPGRADED THE WHEELS']\n",
      "\n",
      "Cluster  9\n",
      "['Put full screen banner at the end , text on screen should be magic trick reveal part 2', 'Please put full screen banner and add text part 2', 'Put text on screen with full banner part 3.', 'Add full screen banner with texts Part 1', 'Please add music , and Add full screen banner text in the beginning part 2', 'Add a banner here - Bizarre Secret Rooms! ', 'Add a banner here - Bizarre Secret Rooms! ', 'Add a banner here - Bizarre Secret Rooms! ', 'Add a banner here - Bizarre Secret Rooms! ', 'Add a banner here - Bizarre Secret Rooms! ']\n",
      "\n",
      "Cluster  10\n",
      "['hum or music ', 'background music too high. Needs to be a bit lower.', 'lower background music', 'Music can be better! ', 'Upbeat - inspirational music', 'Please add music', 'Please add music ', 'Please add music', 'lease add music.', 'Please add music']\n",
      "\n",
      "Cluster  11\n",
      "['captions need to be higher in frame and not at the bottom. They wont be visible after posting on IG if they are that low.', 'can we make the captions colored?', 'Captions to be above the red line. ', 'captions are coming two times ', 'Captions to be above red line', 'Captions above the line', 'Captions coming two time', 'Captions to be above red line', 'Caption to be above red line', 'Double captions coming']\n",
      "\n",
      "Cluster  12\n",
      "['odd cut here', 'Please reduce duration to 1 min. cut from 00:38-00:45', 'The word is getting cut at the end (', 'Remove AND ', 'cut this as it is repeat of what he just said.', 'his word is getting cut here', \"00:14 remove 'handbag essentials' and write 'drawer organizers of jewelry'\", \"remove 'at\", \"remove 2nd 'but it also', it's 'has a terrible' \", 'can;t see him, cuts early ']\n",
      "\n"
     ]
    }
   ],
   "source": [
    "from sentence_transformers import SentenceTransformer\n",
    "from sklearn.cluster import KMeans\n",
    "\n",
    "embedder = SentenceTransformer('all-MiniLM-L6-v2')\n",
    "corpus_embeddings = embedder.encode(data)\n",
    "\n",
    "num_clusters = 12\n",
    "clustering_model = KMeans(n_clusters=num_clusters)\n",
    "clustering_model.fit(corpus_embeddings)\n",
    "cluster_assignment = clustering_model.labels_\n",
    "\n",
    "clustered_sentences = [[] for i in range(num_clusters)]\n",
    "for sentence_id, cluster_id in enumerate(cluster_assignment):\n",
    "    clustered_sentences[cluster_id].append(data[sentence_id])\n",
    "\n",
    "for i, cluster in enumerate(clustered_sentences):\n",
    "    print(\"Cluster \", i+1)\n",
    "    print(cluster[:10])\n",
    "    print(\"\")"
   ]
  },
  {
   "cell_type": "code",
   "execution_count": 63,
   "metadata": {},
   "outputs": [
    {
     "name": "stdout",
     "output_type": "stream",
     "text": [
      "The input text 'PELOTON' belongs to cluster 4 with similarity 0.40356576442718506\n"
     ]
    }
   ],
   "source": [
    "from sklearn.metrics.pairwise import cosine_similarity\n",
    "\n",
    "input_text = \"PELOTON\"\n",
    "input_embedding = embedder.encode([input_text])\n",
    "predicted_cluster = clustering_model.predict(input_embedding)[0]\n",
    "\n",
    "cluster_centers = clustering_model.cluster_centers_\n",
    "cluster_similarities = cosine_similarity(input_embedding, cluster_centers)[0]\n",
    "\n",
    "print(f\"The input text '{input_text}' belongs to cluster {predicted_cluster+1} with similarity {cluster_similarities[predicted_cluster]}\")"
   ]
  },
  {
   "cell_type": "code",
   "execution_count": 53,
   "metadata": {},
   "outputs": [
    {
     "data": {
      "text/plain": [
       "'Divide this caption into two parts'"
      ]
     },
     "execution_count": 53,
     "metadata": {},
     "output_type": "execute_result"
    }
   ],
   "source": [
    "# validation dataset\n",
    "valid_data = pd.read_csv('data/frameIo_dataset_cleansed.csv')\n",
    "valid_data.dropna()\n",
    "valid_data = valid_data[\"Query\"][200:300].to_list()\n",
    "valid_data = [str(datum) for datum in valid_data if len(str(datum)) > 1]\n",
    "valid_data[0]"
   ]
  },
  {
   "cell_type": "code",
   "execution_count": 54,
   "metadata": {},
   "outputs": [
    {
     "name": "stdout",
     "output_type": "stream",
     "text": [
      "'Divide this caption into two parts' belongs to cluster 11 with similarity 0.676762580871582\n",
      "'Make sure all the captions are coming here in the red box throughout so they are visible.\n",
      "Remove the black band behind it and only 5/6 words should come at one point of time.' belongs to cluster 11 with similarity 0.7327397465705872\n",
      "'check the frame here' belongs to cluster 1 with similarity 0.6763469576835632\n",
      "'Make sure all the captions are coming here in the red box throughout so they are visible.\n",
      "Remove the black band behind it and only 5/6 words should come at one point of time.\n",
      "Also make the subtitle font size smaller. ' belongs to cluster 11 with similarity 0.6632164716720581\n",
      "'and the I O is ' belongs to cluster 8 with similarity 0.38930636644363403\n",
      "'The text on screen behind it is getting cut ' belongs to cluster 5 with similarity 0.4778822958469391\n",
      "'Of course, you did! ' belongs to cluster 7 with similarity 0.32758215069770813\n",
      "'car purchase. ' belongs to cluster 8 with similarity 0.4035440683364868\n",
      "'Make sure all the captions are coming here in the red box throughout so they are visible.\n",
      "Remove the black band behind it and only 5/6 words should come at one point of time.\n",
      "Also make the subtitle font size smaller.' belongs to cluster 11 with similarity 0.6632164716720581\n",
      "'Zoom out and show this logo' belongs to cluster 2 with similarity 0.6771054267883301\n",
      "'TOBLERONE ' belongs to cluster 4 with similarity 0.4208378493785858\n",
      "'Add end transition and sfx' belongs to cluster 3 with similarity 0.7066435217857361\n",
      "'Add end transition and sfx' belongs to cluster 3 with similarity 0.7066435217857361\n",
      "'Add end transition and sfx ' belongs to cluster 3 with similarity 0.7066435217857361\n",
      "'Add an end sfx and transition ' belongs to cluster 3 with similarity 0.7047333121299744\n",
      "'Subtitles are missing (' belongs to cluster 11 with similarity 0.5180332064628601\n",
      "'Add subtitles ' belongs to cluster 11 with similarity 0.520095705986023\n",
      "'End sfx and transiiton ' belongs to cluster 3 with similarity 0.5532536506652832\n",
      "'Subtitles and end transition and sfx' belongs to cluster 3 with similarity 0.5674642324447632\n",
      "'Subtitles and end sfx transition ' belongs to cluster 3 with similarity 0.5606157183647156\n",
      "'End sfx and subtitles' belongs to cluster 3 with similarity 0.44023704528808594\n",
      "'Subtitles and end transition and sfx' belongs to cluster 3 with similarity 0.5674642324447632\n",
      "'snatch waist.' belongs to cluster 8 with similarity 0.4990984797477722\n",
      "'trainer on top' belongs to cluster 8 with similarity 0.4036998748779297\n",
      "'remove for hours. from here' belongs to cluster 12 with similarity 0.6274213790893555\n",
      "'My name is Toyesha Smarr' belongs to cluster 7 with similarity 0.36618998646736145\n",
      "'fat be gone gel' belongs to cluster 8 with similarity 0.3559526205062866\n",
      "'remove frame' belongs to cluster 1 with similarity 0.5747967958450317\n",
      "'There is a glitch frame that pops in at 00:05 to remove.  I have some general notes for ALL short videos edited from my various “Uniform” videos (the ones with music only, no narration).  I like what you’re doing but I would like them all to be be re-edited following these notes:\n",
      "I like the opening for “LION_SHORT_31” - with the title of the video and the dates - Briefly as you have it.  Within the BODY of the video - I like showcasing three uniforms but can you re-edit them so that the shots with the original titles/names of the Uniforms are REMOVED and you just have the title re-written at the top of the frame? - this is cleaner and not “cut-off”.  Is it possible to use a different FONT for those titles as well?' belongs to cluster 1 with similarity 0.5024557113647461\n",
      "'I have some general notes for ALL short videos edited from my various “Uniform” videos (the ones with music only, no narration).  I like what you’re doing but I would like them all to be be re-edited following these notes:\n",
      "I like the opening for “LION_SHORT_31” - with the title of the video and the dates - Briefly as you have it.  I would like something like this for each video in this series.  Within the BODY of the video - I like showcasing three uniforms but can you re-edit them so that the shots with the original titles/names of the Uniforms are REMOVED and you just have the title re-written at the top of the frame? - this is cleaner and not “cut-off”.  Is it possible to use a different FONT for those titles as well?  Also - these titles are sometimes too short to read and not on screen long enough.' belongs to cluster 1 with similarity 0.40698516368865967\n",
      "'general notes for ALL short videos edited from my various “Uniform” videos (the ones with music only, no narration).  I like what you’re doing but I would like them all to be be re-edited following these notes:\n",
      "I like the opening for “LION_SHORT_31” - with the title of the video and the dates - Briefly as you have it.  I would like something like this for each video in this series.  Within the BODY of the video - I like showcasing three uniforms but can you re-edit them so that the shots with the original titles/names of the Uniforms are REMOVED and you just have the title re-written at the top of the frame? - this is cleaner and not “cut-off”.  Is it possible to use a different FONT for those titles as well?  Also - these titles are sometimes too short to read and not on screen long enough.' belongs to cluster 1 with similarity 0.4412747323513031\n",
      "'I have some general notes for ALL short videos edited from my various “Uniform” videos (the ones with music only, no narration).  I like what you’re doing but I would like them all to be be re-edited following these notes:\n",
      "I like the opening for “LION_SHORT_31” - with the title of the video and the dates - Briefly as you have it.  I would like something like this for each video in this series.  Within the BODY of the video - I like showcasing three uniforms but can you re-edit them so that the shots with the original titles/names of the Uniforms are REMOVED and you just have the title re-written at the top of the frame? - this is cleaner and not “cut-off”.  Is it possible to use a different FONT for those titles as well?  Also - these titles are sometimes too short to read and not on screen long enough.' belongs to cluster 1 with similarity 0.40698516368865967\n",
      "'I have some general notes for ALL short videos edited from my various “Uniform” videos (the ones with music only, no narration).  I like what you’re doing but I would like them all to be be re-edited following these notes:\n",
      "I like the opening for “LION_SHORT_31” - with the title of the video and the dates - Briefly as you have it.  I would like something like this for each video in this series.  Within the BODY of the video - I like showcasing three uniforms but can you re-edit them so that the shots with the original titles/names of the Uniforms are REMOVED and you just have the title re-written at the top of the frame? - this is cleaner and not “cut-off”.  Is it possible to use a different FONT for those titles as well?  Also - these titles are sometimes too short to read and not on screen long enough.' belongs to cluster 1 with similarity 0.40698516368865967\n",
      "'Manawar from Bubblez Same thing here. A title at the beginning of the vid. And less sad music we can put something upbeat as it's a funny video.' belongs to cluster 10 with similarity 0.4395392835140228\n",
      "'Asked you to put captions above the red line, not below, it won't be visible' belongs to cluster 11 with similarity 0.7481110095977783\n",
      "'Rob Janoff' belongs to cluster 8 with similarity 0.32855531573295593\n",
      "'Caption missing here , that also needs to be put ' belongs to cluster 11 with similarity 0.7750636339187622\n",
      "'Janoff bought a bag of apples\n",
      "Captions missing here again' belongs to cluster 11 with similarity 0.5249630212783813\n",
      "'and spent the week missing' belongs to cluster 4 with similarity 0.34620171785354614\n",
      "'Caption missing again ' belongs to cluster 11 with similarity 0.7339872121810913\n",
      "'Caption missing ' belongs to cluster 11 with similarity 0.7523735761642456\n",
      "'Caption missing' belongs to cluster 11 with similarity 0.7523735761642456\n",
      "'Put all the captions back, otherwise will have to reject this ' belongs to cluster 11 with similarity 0.8083431720733643\n",
      "'Only make sure that the captions on every frame/screen have only 4/5 words.. they are un 1/2 lines and not 4/5 lines.' belongs to cluster 11 with similarity 0.7030254006385803\n",
      "'Asked you to put captions above the red line, not below, it won't be visible.' belongs to cluster 11 with similarity 0.7463710308074951\n",
      "'Captions missing in this also..\n",
      "Keep the comments of both Video 1 as well ' belongs to cluster 11 with similarity 0.6393088102340698\n",
      "'Asked you to put captions above the red line, not below, it won't be visible.' belongs to cluster 11 with similarity 0.7463710308074951\n",
      "'Missing here also, the captions - Same as Video 1' belongs to cluster 11 with similarity 0.6254246234893799\n"
     ]
    },
    {
     "name": "stdout",
     "output_type": "stream",
     "text": [
      "'Asked you to put captions above the red line, not below, it won't be visible.' belongs to cluster 11 with similarity 0.7463710308074951\n",
      "'Captions missing here also. Put 1/2 lines only not 3/4 in one frame.\n",
      "Sane as Video 1' belongs to cluster 1 with similarity 0.6150084733963013\n",
      "'Put captions above red line ' belongs to cluster 11 with similarity 0.7564390897750854\n",
      "'Maestre ' belongs to cluster 4 with similarity 0.3876780569553375\n",
      "'Hi Aditya, font for the captions can they be like this please? https://www.instagram.com/p/CjlFXLDB4O5/ this is a great reference for what i am looking for. thank you ' belongs to cluster 11 with similarity 0.5322926044464111\n",
      "'For this clip we should focus on one question that has the most engagement. In the video it is time stamp 4:43-6:52. It can be condensed to share the most interesting parts to keep it at 60 seconds.' belongs to cluster 1 with similarity 0.4293155372142792\n",
      "'captions like this : https://www.instagram.com/p/CjlFXLDB4O5/' belongs to cluster 11 with similarity 0.6151577234268188\n",
      "'we can cut out crib mattress section as it gets cut off and doesnt flow with this clip. Just keep it as both strollers and maybe add text in the beginning saying \"2 stroller options for newborns\"' belongs to cluster 12 with similarity 0.21494588255882263\n",
      "'Tourist Mistake: Not Using The Subway (don't # these 1,2,3 these are all seperate)' belongs to cluster 4 with similarity 0.30930447578430176\n",
      "'NYC Tourist Mistake: Eating at Chain Restaurants and hold this on screen :2 seconds' belongs to cluster 4 with similarity 0.3690972328186035\n",
      "'0:00 Have You Ever Seen This NYC Hidden Gem?' belongs to cluster 4 with similarity 0.3793414831161499\n",
      "'0:00 Have You Seen This Hidden Memorial in NYC?' belongs to cluster 4 with similarity 0.3193473815917969\n",
      "'I legit think' belongs to cluster 8 with similarity 0.3180882930755615\n",
      "'start the video HERE put \"Have You ever heard of this Secret NYC Garden?\" in the beginning here' belongs to cluster 4 with similarity 0.3938360810279846\n",
      "'0:00 Change #1LinkNYC Boxes to: Have You Ever Seen These NYC Link Boxes? and hold it on screen for :2 seconds' belongs to cluster 1 with similarity 0.4927625358104706\n",
      "'2 seconds (' belongs to cluster 8 with similarity 0.4744938910007477\n",
      "'instead of the title screen you have put at 0:00 for 2 seconds \"Have You Ever Eaten NYC Pizza in an Old Church?\"' belongs to cluster 4 with similarity 0.4051879048347473\n",
      "'0:00 New title screen put: The World's Most Unique Pizzeria?' belongs to cluster 4 with similarity 0.49989306926727295\n",
      "'New title screen put: The World's Most Unique Pizzeria?' belongs to cluster 4 with similarity 0.4606252908706665\n",
      "'Cut :31-:34' belongs to cluster 12 with similarity 0.49013352394104004\n",
      "'Ending's bad.. forget that price point. Cut to my camera guy saying i'm a bad catholic.. and end with that.' belongs to cluster 3 with similarity 0.4392334222793579\n",
      "'change this intro screen and put \"Have You Ever Seen This Hidden NYC Waterfall?\" Hold it on screen first 3 seconds' belongs to cluster 1 with similarity 0.5790129899978638\n",
      "'keep this video going, there's more spots. name them all we can go longer here' belongs to cluster 1 with similarity 0.4135972857475281\n",
      "'change the title bar to \"Throw Away Your NYC Metrocard?\" hold for 2 seconds' belongs to cluster 5 with similarity 0.41633397340774536\n",
      "'end the video here at :19' belongs to cluster 3 with similarity 0.5516346096992493\n",
      "'veselka (cut the is)' belongs to cluster 4 with similarity 0.3867700397968292\n",
      "'cut :17 to 30 second' belongs to cluster 12 with similarity 0.5631991028785706\n",
      "'hold pearl diner 2 seconds on screen' belongs to cluster 1 with similarity 0.36348220705986023\n",
      "'Italy' belongs to cluster 4 with similarity 0.35547661781311035\n",
      "'Italy After Dinner (' belongs to cluster 4 with similarity 0.44689446687698364\n",
      "'Put at 0:00 Is This New York's BEST Diner? leave that on screen for 2 seconds' belongs to cluster 4 with similarity 0.44635164737701416\n",
      "'omelette feta (' belongs to cluster 4 with similarity 0.40151509642601013\n",
      "'This is the best' belongs to cluster 7 with similarity 0.4304773211479187\n",
      "'Put on screen here also, NYC Queens Chinatown Hidden Gem down a Corridor' belongs to cluster 4 with similarity 0.46072036027908325\n",
      "'Now that you guys are showing me ' belongs to cluster 7 with similarity 0.44416388869285583\n",
      "'Bougatsa ' belongs to cluster 4 with similarity 0.4276859760284424\n",
      "'29-29 23rd St, Queens, NY' belongs to cluster 4 with similarity 0.25193002820014954\n",
      "'Know how to eat healthy' belongs to cluster 8 with similarity 0.21051472425460815\n",
      "'Probably one' belongs to cluster 8 with similarity 0.33881425857543945\n",
      "'You can get ' belongs to cluster 8 with similarity 0.39699679613113403\n",
      "'There we go ' belongs to cluster 7 with similarity 0.5007089376449585\n",
      "'hold franky's souvlaki :1 longer' belongs to cluster 4 with similarity 0.3845137059688568\n",
      "'31 Steinway St #2, Queens, NY' belongs to cluster 4 with similarity 0.3386765122413635\n",
      "'Can we get three lamb sticks ' belongs to cluster 8 with similarity 0.266574889421463\n",
      "'we pick' belongs to cluster 7 with similarity 0.45658767223358154\n",
      "'Frankies' belongs to cluster 4 with similarity 0.4039222002029419\n",
      "'I've actually been coming here since I was a little kid ' belongs to cluster 7 with similarity 0.33587104082107544\n",
      "'31st avenue' belongs to cluster 4 with similarity 0.44228649139404297\n",
      "'It's been here for years' belongs to cluster 4 with similarity 0.36329227685928345\n",
      "'As a kid I used to' belongs to cluster 8 with similarity 0.382933646440506\n",
      "'We used to order lemon,salt ' belongs to cluster 8 with similarity 0.2872135639190674\n",
      "'What did this cost' belongs to cluster 8 with similarity 0.3699324131011963\n"
     ]
    }
   ],
   "source": [
    "sim_list = []\n",
    "\n",
    "for data in valid_data:\n",
    "    input_embedding = embedder.encode([data])\n",
    "    predicted_cluster = clustering_model.predict(input_embedding)[0]\n",
    "\n",
    "    cluster_centers = clustering_model.cluster_centers_\n",
    "    cluster_similarities = cosine_similarity(input_embedding, cluster_centers)[0]\n",
    "    sim_list.append(cluster_similarities[predicted_cluster])\n",
    "    \n",
    "    print(f\"'{data}' belongs to cluster {predicted_cluster+1} with similarity {cluster_similarities[predicted_cluster]}\")"
   ]
  },
  {
   "cell_type": "code",
   "execution_count": 55,
   "metadata": {},
   "outputs": [
    {
     "data": {
      "text/plain": [
       "0.21051472"
      ]
     },
     "execution_count": 55,
     "metadata": {},
     "output_type": "execute_result"
    }
   ],
   "source": [
    "min(sim_list)"
   ]
  },
  {
   "cell_type": "code",
   "execution_count": null,
   "metadata": {},
   "outputs": [],
   "source": [
    "import random\n",
    "\n",
    "demo_for_few_shot = []\n",
    "\n",
    "for cluster in clustered_sentences:\n",
    "    demo = random.sample(cluster, 3)\n",
    "    demo_for_few_shot.append(demo)"
   ]
  }
 ],
 "metadata": {
  "kernelspec": {
   "display_name": "Python 3",
   "language": "python",
   "name": "python3"
  },
  "language_info": {
   "codemirror_mode": {
    "name": "ipython",
    "version": 3
   },
   "file_extension": ".py",
   "mimetype": "text/x-python",
   "name": "python",
   "nbconvert_exporter": "python",
   "pygments_lexer": "ipython3",
   "version": "3.8.8"
  }
 },
 "nbformat": 4,
 "nbformat_minor": 2
}
